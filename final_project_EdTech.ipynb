{
 "cells": [
  {
   "cell_type": "markdown",
   "metadata": {},
   "source": [
    "### Итоговый проект, вариант 2\n",
    "\n",
    "Входные данные:\n",
    "- **[groups.csv](https://disk.yandex.ru/d/58Us0DWOzuWAjg)** - информация о принадлежности пользователя к контрольной или экспериментальной группе (А – контроль, B – целевая группа);\n",
    "- **[groups_add.csv](https://disk.yandex.ru/d/3aARY-P9pfaksg)** - дополнительный файл с пользователями, который вам прислали спустя 2 дня после передачи данных;\n",
    "- **[active_studs.csv](https://disk.yandex.ru/d/prbgU-rZpiXVYg)**  - файл с информацией о пользователях, которые зашли на платформу в дни проведения эксперимента;\n",
    "- **[checks.csv ](https://disk.yandex.ru/d/84hTmELphW2sqQ)** - файл с информацией об оплатах пользователей в дни проведения эксперимента."
   ]
  },
  {
   "cell_type": "markdown",
   "metadata": {},
   "source": [
    "Загружаем необходимые библиотеки:"
   ]
  },
  {
   "cell_type": "code",
   "execution_count": 1,
   "metadata": {},
   "outputs": [],
   "source": [
    "import pandas as pd\n",
    "import numpy as np\n",
    "\n",
    "import scipy.stats as ss\n",
    "import statsmodels.api as sm\n",
    "from statsmodels.stats.contingency_tables import StratifiedTable\n",
    "\n",
    "import seaborn as sns\n",
    "import matplotlib.pyplot as plt\n",
    "\n",
    "from tqdm.auto import tqdm\n",
    "\n",
    "import pandahouse as ph"
   ]
  },
  {
   "cell_type": "code",
   "execution_count": 2,
   "metadata": {},
   "outputs": [],
   "source": [
    "# Объявим функцию, которая позволит проверять гипотезы с помощью бутстрапа\n",
    "def get_bootstrap(\n",
    "    data_column_1, # числовые значения первой выборки\n",
    "    data_column_2, # числовые значения второй выборки\n",
    "    boot_it = 1000, # количество бутстрэп-подвыборок\n",
    "    statistic = np.mean, # интересующая нас статистика\n",
    "    bootstrap_conf_level = 0.95 # уровень значимости\n",
    "):\n",
    "    boot_len = max([len(data_column_1), len(data_column_2)])\n",
    "    boot_data = []\n",
    "    for i in tqdm(range(boot_it)): # извлекаем подвыборки\n",
    "        samples_1 = data_column_1.sample(\n",
    "            boot_len, \n",
    "            replace = True # параметр возвращения\n",
    "        ).values\n",
    "        \n",
    "        samples_2 = data_column_2.sample(\n",
    "            boot_len, \n",
    "            replace = True\n",
    "        ).values\n",
    "        \n",
    "        boot_data.append(statistic(samples_1-samples_2)) # mean() - применяем статистику\n",
    "        \n",
    "    pd_boot_data = pd.DataFrame(boot_data)\n",
    "        \n",
    "    left_quant = (1 - bootstrap_conf_level)/2\n",
    "    right_quant = 1 - (1 - bootstrap_conf_level) / 2\n",
    "    ci = pd_boot_data.quantile([left_quant, right_quant])\n",
    "        \n",
    "    p_1 = ss.norm.cdf(\n",
    "        x = 0, \n",
    "        loc = np.mean(boot_data), \n",
    "        scale = np.std(boot_data)\n",
    "    )\n",
    "    p_2 = ss.norm.cdf(\n",
    "        x = 0, \n",
    "        loc = -np.mean(boot_data), \n",
    "        scale = np.std(boot_data)\n",
    "    )\n",
    "    p_value = min(p_1, p_2) * 2\n",
    "        \n",
    "    # Визуализация\n",
    "    plt.style.use('ggplot')\n",
    "    plt.figure(figsize=(10, 6))\n",
    "    plt.vlines(ci, ymin=0, ymax=50, linestyle='--')\n",
    "    plt.hist(pd_boot_data[0], bins = 50)\n",
    "    \n",
    "    \n",
    "\n",
    "    plt.xlabel('boot_data')\n",
    "    plt.ylabel('frequency')\n",
    "    plt.title('Histogram of boot_data')\n",
    "    \n",
    "    \n",
    "    plt.show()\n",
    "       \n",
    "    return {'boot_data': boot_data, \n",
    "            'ci': ci, \n",
    "            'p_value': p_value}"
   ]
  },
  {
   "cell_type": "markdown",
   "metadata": {},
   "source": [
    "Считываем файлы и проверяем датафреймы, их размер и типы данных:"
   ]
  },
  {
   "cell_type": "code",
   "execution_count": 3,
   "metadata": {},
   "outputs": [],
   "source": [
    "groups       = pd.read_csv('Проект_2_groups.csv', sep=';')\n",
    "groups_add   = pd.read_csv('Проект_2_group_add.csv')\n",
    "active_studs = pd.read_csv('Проект_2_active_studs.csv', sep=';')\n",
    "checks       = pd.read_csv('Проект_2_checks.csv', sep=';')"
   ]
  },
  {
   "cell_type": "code",
   "execution_count": 4,
   "metadata": {},
   "outputs": [
    {
     "data": {
      "text/html": [
       "<div>\n",
       "<style scoped>\n",
       "    .dataframe tbody tr th:only-of-type {\n",
       "        vertical-align: middle;\n",
       "    }\n",
       "\n",
       "    .dataframe tbody tr th {\n",
       "        vertical-align: top;\n",
       "    }\n",
       "\n",
       "    .dataframe thead th {\n",
       "        text-align: right;\n",
       "    }\n",
       "</style>\n",
       "<table border=\"1\" class=\"dataframe\">\n",
       "  <thead>\n",
       "    <tr style=\"text-align: right;\">\n",
       "      <th></th>\n",
       "      <th>id</th>\n",
       "      <th>grp</th>\n",
       "    </tr>\n",
       "  </thead>\n",
       "  <tbody>\n",
       "    <tr>\n",
       "      <th>0</th>\n",
       "      <td>1489</td>\n",
       "      <td>B</td>\n",
       "    </tr>\n",
       "    <tr>\n",
       "      <th>1</th>\n",
       "      <td>1627</td>\n",
       "      <td>A</td>\n",
       "    </tr>\n",
       "    <tr>\n",
       "      <th>2</th>\n",
       "      <td>1768</td>\n",
       "      <td>B</td>\n",
       "    </tr>\n",
       "    <tr>\n",
       "      <th>3</th>\n",
       "      <td>1783</td>\n",
       "      <td>B</td>\n",
       "    </tr>\n",
       "    <tr>\n",
       "      <th>4</th>\n",
       "      <td>1794</td>\n",
       "      <td>A</td>\n",
       "    </tr>\n",
       "  </tbody>\n",
       "</table>\n",
       "</div>"
      ],
      "text/plain": [
       "     id grp\n",
       "0  1489   B\n",
       "1  1627   A\n",
       "2  1768   B\n",
       "3  1783   B\n",
       "4  1794   A"
      ]
     },
     "execution_count": 4,
     "metadata": {},
     "output_type": "execute_result"
    }
   ],
   "source": [
    "groups.head()"
   ]
  },
  {
   "cell_type": "code",
   "execution_count": 5,
   "metadata": {},
   "outputs": [
    {
     "data": {
      "text/plain": [
       "(74484, 2)"
      ]
     },
     "execution_count": 5,
     "metadata": {},
     "output_type": "execute_result"
    }
   ],
   "source": [
    "groups.shape"
   ]
  },
  {
   "cell_type": "code",
   "execution_count": 6,
   "metadata": {},
   "outputs": [
    {
     "data": {
      "text/plain": [
       "id      int64\n",
       "grp    object\n",
       "dtype: object"
      ]
     },
     "execution_count": 6,
     "metadata": {},
     "output_type": "execute_result"
    }
   ],
   "source": [
    "groups.dtypes"
   ]
  },
  {
   "cell_type": "code",
   "execution_count": 7,
   "metadata": {},
   "outputs": [
    {
     "data": {
      "text/plain": [
       "id     0\n",
       "grp    0\n",
       "dtype: int64"
      ]
     },
     "execution_count": 7,
     "metadata": {},
     "output_type": "execute_result"
    }
   ],
   "source": [
    "groups.isna().sum()"
   ]
  },
  {
   "cell_type": "code",
   "execution_count": 8,
   "metadata": {},
   "outputs": [
    {
     "data": {
      "text/html": [
       "<div>\n",
       "<style scoped>\n",
       "    .dataframe tbody tr th:only-of-type {\n",
       "        vertical-align: middle;\n",
       "    }\n",
       "\n",
       "    .dataframe tbody tr th {\n",
       "        vertical-align: top;\n",
       "    }\n",
       "\n",
       "    .dataframe thead th {\n",
       "        text-align: right;\n",
       "    }\n",
       "</style>\n",
       "<table border=\"1\" class=\"dataframe\">\n",
       "  <thead>\n",
       "    <tr style=\"text-align: right;\">\n",
       "      <th></th>\n",
       "      <th>id</th>\n",
       "      <th>grp</th>\n",
       "    </tr>\n",
       "  </thead>\n",
       "  <tbody>\n",
       "    <tr>\n",
       "      <th>0</th>\n",
       "      <td>5694584</td>\n",
       "      <td>B</td>\n",
       "    </tr>\n",
       "    <tr>\n",
       "      <th>1</th>\n",
       "      <td>5694830</td>\n",
       "      <td>B</td>\n",
       "    </tr>\n",
       "    <tr>\n",
       "      <th>2</th>\n",
       "      <td>5695057</td>\n",
       "      <td>B</td>\n",
       "    </tr>\n",
       "    <tr>\n",
       "      <th>3</th>\n",
       "      <td>5698872</td>\n",
       "      <td>B</td>\n",
       "    </tr>\n",
       "    <tr>\n",
       "      <th>4</th>\n",
       "      <td>5699067</td>\n",
       "      <td>B</td>\n",
       "    </tr>\n",
       "  </tbody>\n",
       "</table>\n",
       "</div>"
      ],
      "text/plain": [
       "        id grp\n",
       "0  5694584   B\n",
       "1  5694830   B\n",
       "2  5695057   B\n",
       "3  5698872   B\n",
       "4  5699067   B"
      ]
     },
     "execution_count": 8,
     "metadata": {},
     "output_type": "execute_result"
    }
   ],
   "source": [
    "groups_add.head()"
   ]
  },
  {
   "cell_type": "code",
   "execution_count": 9,
   "metadata": {},
   "outputs": [
    {
     "data": {
      "text/plain": [
       "(92, 2)"
      ]
     },
     "execution_count": 9,
     "metadata": {},
     "output_type": "execute_result"
    }
   ],
   "source": [
    "groups_add.shape"
   ]
  },
  {
   "cell_type": "code",
   "execution_count": 10,
   "metadata": {
    "scrolled": true
   },
   "outputs": [
    {
     "data": {
      "text/plain": [
       "id      int64\n",
       "grp    object\n",
       "dtype: object"
      ]
     },
     "execution_count": 10,
     "metadata": {},
     "output_type": "execute_result"
    }
   ],
   "source": [
    "groups_add.dtypes"
   ]
  },
  {
   "cell_type": "code",
   "execution_count": 11,
   "metadata": {},
   "outputs": [
    {
     "data": {
      "text/plain": [
       "id     0\n",
       "grp    0\n",
       "dtype: int64"
      ]
     },
     "execution_count": 11,
     "metadata": {},
     "output_type": "execute_result"
    }
   ],
   "source": [
    "groups_add.isna().sum()"
   ]
  },
  {
   "cell_type": "code",
   "execution_count": 12,
   "metadata": {},
   "outputs": [
    {
     "data": {
      "text/html": [
       "<div>\n",
       "<style scoped>\n",
       "    .dataframe tbody tr th:only-of-type {\n",
       "        vertical-align: middle;\n",
       "    }\n",
       "\n",
       "    .dataframe tbody tr th {\n",
       "        vertical-align: top;\n",
       "    }\n",
       "\n",
       "    .dataframe thead th {\n",
       "        text-align: right;\n",
       "    }\n",
       "</style>\n",
       "<table border=\"1\" class=\"dataframe\">\n",
       "  <thead>\n",
       "    <tr style=\"text-align: right;\">\n",
       "      <th></th>\n",
       "      <th>student_id</th>\n",
       "    </tr>\n",
       "  </thead>\n",
       "  <tbody>\n",
       "    <tr>\n",
       "      <th>0</th>\n",
       "      <td>581585</td>\n",
       "    </tr>\n",
       "    <tr>\n",
       "      <th>1</th>\n",
       "      <td>5723133</td>\n",
       "    </tr>\n",
       "    <tr>\n",
       "      <th>2</th>\n",
       "      <td>3276743</td>\n",
       "    </tr>\n",
       "    <tr>\n",
       "      <th>3</th>\n",
       "      <td>4238589</td>\n",
       "    </tr>\n",
       "    <tr>\n",
       "      <th>4</th>\n",
       "      <td>4475369</td>\n",
       "    </tr>\n",
       "  </tbody>\n",
       "</table>\n",
       "</div>"
      ],
      "text/plain": [
       "   student_id\n",
       "0      581585\n",
       "1     5723133\n",
       "2     3276743\n",
       "3     4238589\n",
       "4     4475369"
      ]
     },
     "execution_count": 12,
     "metadata": {},
     "output_type": "execute_result"
    }
   ],
   "source": [
    "active_studs.head()"
   ]
  },
  {
   "cell_type": "code",
   "execution_count": 13,
   "metadata": {},
   "outputs": [
    {
     "data": {
      "text/plain": [
       "(8341, 1)"
      ]
     },
     "execution_count": 13,
     "metadata": {},
     "output_type": "execute_result"
    }
   ],
   "source": [
    "active_studs.shape"
   ]
  },
  {
   "cell_type": "code",
   "execution_count": 14,
   "metadata": {},
   "outputs": [
    {
     "data": {
      "text/plain": [
       "student_id    int64\n",
       "dtype: object"
      ]
     },
     "execution_count": 14,
     "metadata": {},
     "output_type": "execute_result"
    }
   ],
   "source": [
    "active_studs.dtypes"
   ]
  },
  {
   "cell_type": "code",
   "execution_count": 15,
   "metadata": {},
   "outputs": [
    {
     "data": {
      "text/plain": [
       "student_id    0\n",
       "dtype: int64"
      ]
     },
     "execution_count": 15,
     "metadata": {},
     "output_type": "execute_result"
    }
   ],
   "source": [
    "active_studs.isna().sum()"
   ]
  },
  {
   "cell_type": "code",
   "execution_count": 16,
   "metadata": {},
   "outputs": [
    {
     "data": {
      "text/html": [
       "<div>\n",
       "<style scoped>\n",
       "    .dataframe tbody tr th:only-of-type {\n",
       "        vertical-align: middle;\n",
       "    }\n",
       "\n",
       "    .dataframe tbody tr th {\n",
       "        vertical-align: top;\n",
       "    }\n",
       "\n",
       "    .dataframe thead th {\n",
       "        text-align: right;\n",
       "    }\n",
       "</style>\n",
       "<table border=\"1\" class=\"dataframe\">\n",
       "  <thead>\n",
       "    <tr style=\"text-align: right;\">\n",
       "      <th></th>\n",
       "      <th>student_id</th>\n",
       "      <th>rev</th>\n",
       "    </tr>\n",
       "  </thead>\n",
       "  <tbody>\n",
       "    <tr>\n",
       "      <th>0</th>\n",
       "      <td>1627</td>\n",
       "      <td>990.0</td>\n",
       "    </tr>\n",
       "    <tr>\n",
       "      <th>1</th>\n",
       "      <td>3185</td>\n",
       "      <td>690.0</td>\n",
       "    </tr>\n",
       "    <tr>\n",
       "      <th>2</th>\n",
       "      <td>25973</td>\n",
       "      <td>690.0</td>\n",
       "    </tr>\n",
       "    <tr>\n",
       "      <th>3</th>\n",
       "      <td>26280</td>\n",
       "      <td>690.0</td>\n",
       "    </tr>\n",
       "    <tr>\n",
       "      <th>4</th>\n",
       "      <td>100300</td>\n",
       "      <td>990.0</td>\n",
       "    </tr>\n",
       "  </tbody>\n",
       "</table>\n",
       "</div>"
      ],
      "text/plain": [
       "   student_id    rev\n",
       "0        1627  990.0\n",
       "1        3185  690.0\n",
       "2       25973  690.0\n",
       "3       26280  690.0\n",
       "4      100300  990.0"
      ]
     },
     "execution_count": 16,
     "metadata": {},
     "output_type": "execute_result"
    }
   ],
   "source": [
    "checks.head()"
   ]
  },
  {
   "cell_type": "code",
   "execution_count": 17,
   "metadata": {},
   "outputs": [
    {
     "data": {
      "text/plain": [
       "(541, 2)"
      ]
     },
     "execution_count": 17,
     "metadata": {},
     "output_type": "execute_result"
    }
   ],
   "source": [
    "checks.shape"
   ]
  },
  {
   "cell_type": "code",
   "execution_count": 18,
   "metadata": {
    "scrolled": false
   },
   "outputs": [
    {
     "data": {
      "text/plain": [
       "student_id      int64\n",
       "rev           float64\n",
       "dtype: object"
      ]
     },
     "execution_count": 18,
     "metadata": {},
     "output_type": "execute_result"
    }
   ],
   "source": [
    "checks.dtypes"
   ]
  },
  {
   "cell_type": "code",
   "execution_count": 19,
   "metadata": {},
   "outputs": [
    {
     "data": {
      "text/plain": [
       "student_id    0\n",
       "rev           0\n",
       "dtype: int64"
      ]
     },
     "execution_count": 19,
     "metadata": {},
     "output_type": "execute_result"
    }
   ],
   "source": [
    "checks.isna().sum()"
   ]
  },
  {
   "cell_type": "code",
   "execution_count": 20,
   "metadata": {},
   "outputs": [
    {
     "data": {
      "text/plain": [
       "541"
      ]
     },
     "execution_count": 20,
     "metadata": {},
     "output_type": "execute_result"
    }
   ],
   "source": [
    "checks.student_id.nunique()"
   ]
  },
  {
   "cell_type": "markdown",
   "metadata": {},
   "source": [
    "Каждый из покупателей в датафрейме `checks` совершил только одну покупку, будем иметь это в виду."
   ]
  },
  {
   "cell_type": "markdown",
   "metadata": {},
   "source": [
    "### Задание 1. Python\n",
    "Одной из основных задач аналитика в нашей команде является корректное проведение экспериментов. Для этого мы применяем метод A/B–тестирования. В ходе тестирования одной гипотезы целевой группе была предложена новая механика оплаты услуг на сайте, у контрольной группы оставалась базовая механика. В качестве задания Вам необходимо проанализировать итоги эксперимента и сделать вывод, стоит ли запускать новую механику оплаты на всех пользователей.\n",
    "\n",
    "Предлагаем Вам ответить на следующие вопросы:\n",
    "\n",
    "- На какие метрики Вы смотрите в ходе анализа и почему?\n",
    "- Имеются ли различия в показателях и с чем они могут быть связаны?\n",
    "- Являются ли эти различия статистически значимыми?\n",
    "- Стоит ли запускать новую механику на всех пользователей?"
   ]
  },
  {
   "cell_type": "markdown",
   "metadata": {},
   "source": [
    "Для начала объединим датафреймы `groups` и `groups_add` и проведём эксплораторный анализ данных."
   ]
  },
  {
   "cell_type": "code",
   "execution_count": 21,
   "metadata": {},
   "outputs": [
    {
     "data": {
      "text/html": [
       "<div>\n",
       "<style scoped>\n",
       "    .dataframe tbody tr th:only-of-type {\n",
       "        vertical-align: middle;\n",
       "    }\n",
       "\n",
       "    .dataframe tbody tr th {\n",
       "        vertical-align: top;\n",
       "    }\n",
       "\n",
       "    .dataframe thead th {\n",
       "        text-align: right;\n",
       "    }\n",
       "</style>\n",
       "<table border=\"1\" class=\"dataframe\">\n",
       "  <thead>\n",
       "    <tr style=\"text-align: right;\">\n",
       "      <th></th>\n",
       "      <th>id</th>\n",
       "      <th>grp</th>\n",
       "    </tr>\n",
       "  </thead>\n",
       "  <tbody>\n",
       "    <tr>\n",
       "      <th>0</th>\n",
       "      <td>1489</td>\n",
       "      <td>B</td>\n",
       "    </tr>\n",
       "    <tr>\n",
       "      <th>1</th>\n",
       "      <td>1627</td>\n",
       "      <td>A</td>\n",
       "    </tr>\n",
       "    <tr>\n",
       "      <th>2</th>\n",
       "      <td>1768</td>\n",
       "      <td>B</td>\n",
       "    </tr>\n",
       "    <tr>\n",
       "      <th>3</th>\n",
       "      <td>1783</td>\n",
       "      <td>B</td>\n",
       "    </tr>\n",
       "    <tr>\n",
       "      <th>4</th>\n",
       "      <td>1794</td>\n",
       "      <td>A</td>\n",
       "    </tr>\n",
       "  </tbody>\n",
       "</table>\n",
       "</div>"
      ],
      "text/plain": [
       "     id grp\n",
       "0  1489   B\n",
       "1  1627   A\n",
       "2  1768   B\n",
       "3  1783   B\n",
       "4  1794   A"
      ]
     },
     "execution_count": 21,
     "metadata": {},
     "output_type": "execute_result"
    }
   ],
   "source": [
    "full_groups = groups.append(groups_add)\n",
    "full_groups.head()"
   ]
  },
  {
   "cell_type": "code",
   "execution_count": 22,
   "metadata": {},
   "outputs": [
    {
     "data": {
      "text/plain": [
       "(74576, 2)"
      ]
     },
     "execution_count": 22,
     "metadata": {},
     "output_type": "execute_result"
    }
   ],
   "source": [
    "full_groups.shape"
   ]
  },
  {
   "cell_type": "code",
   "execution_count": 23,
   "metadata": {},
   "outputs": [
    {
     "name": "stdout",
     "output_type": "stream",
     "text": [
      "Участников в контрольной группе - 14693. \n",
      "Участников в тестовой группе - 59883.\n",
      "Общее количество участников - 74576.\n"
     ]
    }
   ],
   "source": [
    "count_control = full_groups[full_groups.grp == 'A'].count()[0]\n",
    "count_test = full_groups[full_groups.grp == 'B'].count()[0]\n",
    "total_count = full_groups.shape[0]\n",
    "\n",
    "print('Участников в контрольной группе - {}. \\nУчастников в тестовой группе - {}.\\nОбщее количество участников - {}.' \\\n",
    "      .format(count_control, count_test, total_count))"
   ]
  },
  {
   "cell_type": "markdown",
   "metadata": {},
   "source": [
    "Заодно посмотрим, все ли айдишники уникальные, не затесались ли случайно повторы и не попал ли один и тот же айдишник в обе группы."
   ]
  },
  {
   "cell_type": "code",
   "execution_count": 24,
   "metadata": {},
   "outputs": [],
   "source": [
    "unique_test = full_groups[full_groups.grp == 'B'].id.nunique()\n",
    "unique_control = full_groups[full_groups.grp == 'A'].id.nunique()"
   ]
  },
  {
   "cell_type": "code",
   "execution_count": 25,
   "metadata": {},
   "outputs": [
    {
     "name": "stdout",
     "output_type": "stream",
     "text": [
      "OK! Все айдишники уникальные.\n"
     ]
    }
   ],
   "source": [
    "if unique_test == count_test and unique_control == count_control and (unique_test + unique_control == total_count):\n",
    "    print('OK! Все айдишники уникальные.')\n",
    "else:\n",
    "    print('ERROR! Есть повторы!')"
   ]
  },
  {
   "cell_type": "markdown",
   "metadata": {},
   "source": [
    "Достаточно странно, что в тестовой группе участников в несколько раз больше, чем в контрольной. Обычно бывает наоборот. За неимением дополнительной информации об эксперименте, пока делать какие-то выводы нельзя, но при выборе теста это нужно иметь в виду."
   ]
  },
  {
   "cell_type": "markdown",
   "metadata": {},
   "source": [
    "Переименуем колонки:"
   ]
  },
  {
   "cell_type": "code",
   "execution_count": 26,
   "metadata": {},
   "outputs": [],
   "source": [
    "active_studs = active_studs.rename(columns={'student_id':'id'})\n",
    "checks = checks.rename(columns={'student_id':'id'})"
   ]
  },
  {
   "cell_type": "markdown",
   "metadata": {},
   "source": [
    "Добавим колонку `is_active`, чтобы в дальнейшем сделать мёрдж."
   ]
  },
  {
   "cell_type": "code",
   "execution_count": 27,
   "metadata": {},
   "outputs": [],
   "source": [
    "active_studs['is_active'] = True"
   ]
  },
  {
   "cell_type": "markdown",
   "metadata": {},
   "source": [
    "Смёрджим `grops`, `active_studs` и `checks` левым джойном, а затем заменим пропуски в `is_active` на `False`, а в `rev` на `0.0`."
   ]
  },
  {
   "cell_type": "code",
   "execution_count": 28,
   "metadata": {},
   "outputs": [],
   "source": [
    "ab_testing = full_groups.merge(active_studs, how='left', on='id') \\\n",
    "                        .merge(checks, how='left', on='id')\n",
    "\n",
    "\n",
    "ab_testing['is_active'] = ab_testing['is_active'].fillna(False)\n",
    "ab_testing['rev'] = ab_testing['rev'].fillna(0)"
   ]
  },
  {
   "cell_type": "markdown",
   "metadata": {},
   "source": [
    "Для самопроверки посмотрим количество строк в результирующем датафрейме, должно остаться столько же, сколько и было в первоначальном."
   ]
  },
  {
   "cell_type": "code",
   "execution_count": 29,
   "metadata": {},
   "outputs": [
    {
     "name": "stdout",
     "output_type": "stream",
     "text": [
      "Всего в таблице 74576 уникальных айдишников.\n"
     ]
    }
   ],
   "source": [
    "total_ab = ab_testing.id.nunique()\n",
    "print('Всего в таблице {} уникальных айдишников.'.format(total_ab))"
   ]
  },
  {
   "cell_type": "markdown",
   "metadata": {},
   "source": [
    "Теперь проверим, есть ли среди пользователей те, кто был неактивен, но совершил покупку:"
   ]
  },
  {
   "cell_type": "code",
   "execution_count": 30,
   "metadata": {},
   "outputs": [
    {
     "data": {
      "text/html": [
       "<div>\n",
       "<style scoped>\n",
       "    .dataframe tbody tr th:only-of-type {\n",
       "        vertical-align: middle;\n",
       "    }\n",
       "\n",
       "    .dataframe tbody tr th {\n",
       "        vertical-align: top;\n",
       "    }\n",
       "\n",
       "    .dataframe thead th {\n",
       "        text-align: right;\n",
       "    }\n",
       "</style>\n",
       "<table border=\"1\" class=\"dataframe\">\n",
       "  <thead>\n",
       "    <tr style=\"text-align: right;\">\n",
       "      <th></th>\n",
       "      <th>grp</th>\n",
       "      <th>count</th>\n",
       "    </tr>\n",
       "  </thead>\n",
       "  <tbody>\n",
       "    <tr>\n",
       "      <th>0</th>\n",
       "      <td>A</td>\n",
       "      <td>29</td>\n",
       "    </tr>\n",
       "    <tr>\n",
       "      <th>1</th>\n",
       "      <td>B</td>\n",
       "      <td>120</td>\n",
       "    </tr>\n",
       "  </tbody>\n",
       "</table>\n",
       "</div>"
      ],
      "text/plain": [
       "  grp  count\n",
       "0   A     29\n",
       "1   B    120"
      ]
     },
     "execution_count": 30,
     "metadata": {},
     "output_type": "execute_result"
    }
   ],
   "source": [
    "ab_testing.query(\"is_active == '0' and rev > 0\") \\\n",
    "          .groupby('grp', as_index=False) \\\n",
    "          .agg(count=('rev', 'count')) "
   ]
  },
  {
   "cell_type": "markdown",
   "metadata": {},
   "source": [
    "А также есть ли отрицательная выручка:"
   ]
  },
  {
   "cell_type": "code",
   "execution_count": 31,
   "metadata": {
    "scrolled": true
   },
   "outputs": [
    {
     "data": {
      "text/html": [
       "<div>\n",
       "<style scoped>\n",
       "    .dataframe tbody tr th:only-of-type {\n",
       "        vertical-align: middle;\n",
       "    }\n",
       "\n",
       "    .dataframe tbody tr th {\n",
       "        vertical-align: top;\n",
       "    }\n",
       "\n",
       "    .dataframe thead th {\n",
       "        text-align: right;\n",
       "    }\n",
       "</style>\n",
       "<table border=\"1\" class=\"dataframe\">\n",
       "  <thead>\n",
       "    <tr style=\"text-align: right;\">\n",
       "      <th></th>\n",
       "      <th>id</th>\n",
       "      <th>grp</th>\n",
       "      <th>is_active</th>\n",
       "      <th>rev</th>\n",
       "    </tr>\n",
       "  </thead>\n",
       "  <tbody>\n",
       "  </tbody>\n",
       "</table>\n",
       "</div>"
      ],
      "text/plain": [
       "Empty DataFrame\n",
       "Columns: [id, grp, is_active, rev]\n",
       "Index: []"
      ]
     },
     "execution_count": 31,
     "metadata": {},
     "output_type": "execute_result"
    }
   ],
   "source": [
    "ab_testing.query('rev < 0')"
   ]
  },
  {
   "cell_type": "markdown",
   "metadata": {},
   "source": [
    "У нас есть пользователи, которые были неактивны, но совершили покупку, при чём их довольно много. Хоть информации о новой механике оплаты у нас нет, можно предположить, что:\n",
    "\n",
    "1. Эти люди совершили оплату в обход посещения сайта (например, автопродление подписки или оплата напрямую через какой-нибудь кошелёк);\n",
    "2. Оплата была совершена до начала эксперимента, где-то застряла и прошла уже после его начала.\n",
    "\n",
    "Единственное, что мы знаем, новая механика затрагивает оплату услуг именно *на сайте*. Если предположить, что активный пользователь - тот, кто вообще хотя бы зашёл на сайт, то тогда неактивных людей с покупкой мы не можем взять в наш эксперимент."
   ]
  },
  {
   "cell_type": "code",
   "execution_count": 32,
   "metadata": {
    "scrolled": true
   },
   "outputs": [
    {
     "data": {
      "text/html": [
       "<div>\n",
       "<style scoped>\n",
       "    .dataframe tbody tr th:only-of-type {\n",
       "        vertical-align: middle;\n",
       "    }\n",
       "\n",
       "    .dataframe tbody tr th {\n",
       "        vertical-align: top;\n",
       "    }\n",
       "\n",
       "    .dataframe thead th {\n",
       "        text-align: right;\n",
       "    }\n",
       "</style>\n",
       "<table border=\"1\" class=\"dataframe\">\n",
       "  <thead>\n",
       "    <tr style=\"text-align: right;\">\n",
       "      <th></th>\n",
       "      <th>id</th>\n",
       "      <th>grp</th>\n",
       "      <th>is_active</th>\n",
       "      <th>rev</th>\n",
       "    </tr>\n",
       "  </thead>\n",
       "  <tbody>\n",
       "    <tr>\n",
       "      <th>0</th>\n",
       "      <td>1489</td>\n",
       "      <td>B</td>\n",
       "      <td>False</td>\n",
       "      <td>0.0</td>\n",
       "    </tr>\n",
       "    <tr>\n",
       "      <th>1</th>\n",
       "      <td>1627</td>\n",
       "      <td>A</td>\n",
       "      <td>True</td>\n",
       "      <td>990.0</td>\n",
       "    </tr>\n",
       "    <tr>\n",
       "      <th>2</th>\n",
       "      <td>1768</td>\n",
       "      <td>B</td>\n",
       "      <td>False</td>\n",
       "      <td>0.0</td>\n",
       "    </tr>\n",
       "    <tr>\n",
       "      <th>3</th>\n",
       "      <td>1783</td>\n",
       "      <td>B</td>\n",
       "      <td>False</td>\n",
       "      <td>0.0</td>\n",
       "    </tr>\n",
       "    <tr>\n",
       "      <th>4</th>\n",
       "      <td>1794</td>\n",
       "      <td>A</td>\n",
       "      <td>False</td>\n",
       "      <td>0.0</td>\n",
       "    </tr>\n",
       "  </tbody>\n",
       "</table>\n",
       "</div>"
      ],
      "text/plain": [
       "     id grp  is_active    rev\n",
       "0  1489   B      False    0.0\n",
       "1  1627   A       True  990.0\n",
       "2  1768   B      False    0.0\n",
       "3  1783   B      False    0.0\n",
       "4  1794   A      False    0.0"
      ]
     },
     "execution_count": 32,
     "metadata": {},
     "output_type": "execute_result"
    }
   ],
   "source": [
    "ab_testing = ab_testing.query(\"(is_active == '0' and rev == 0) or is_active == '1' \")\n",
    "ab_testing.head()"
   ]
  },
  {
   "cell_type": "markdown",
   "metadata": {},
   "source": [
    "Для собственного удобства переименую группы `A` и `B` в более конкретные `control` и `test`, чтобы не путаться."
   ]
  },
  {
   "cell_type": "code",
   "execution_count": 33,
   "metadata": {},
   "outputs": [],
   "source": [
    "ab_testing.loc[(ab_testing.grp == 'A'), 'grp'] = 'control'\n",
    "ab_testing.loc[(ab_testing.grp == 'B'), 'grp'] = 'test'"
   ]
  },
  {
   "cell_type": "code",
   "execution_count": 34,
   "metadata": {},
   "outputs": [
    {
     "data": {
      "text/html": [
       "<div>\n",
       "<style scoped>\n",
       "    .dataframe tbody tr th:only-of-type {\n",
       "        vertical-align: middle;\n",
       "    }\n",
       "\n",
       "    .dataframe tbody tr th {\n",
       "        vertical-align: top;\n",
       "    }\n",
       "\n",
       "    .dataframe thead th {\n",
       "        text-align: right;\n",
       "    }\n",
       "</style>\n",
       "<table border=\"1\" class=\"dataframe\">\n",
       "  <thead>\n",
       "    <tr style=\"text-align: right;\">\n",
       "      <th></th>\n",
       "      <th>id</th>\n",
       "      <th>grp</th>\n",
       "      <th>is_active</th>\n",
       "      <th>rev</th>\n",
       "    </tr>\n",
       "  </thead>\n",
       "  <tbody>\n",
       "    <tr>\n",
       "      <th>0</th>\n",
       "      <td>1489</td>\n",
       "      <td>test</td>\n",
       "      <td>False</td>\n",
       "      <td>0.0</td>\n",
       "    </tr>\n",
       "    <tr>\n",
       "      <th>1</th>\n",
       "      <td>1627</td>\n",
       "      <td>control</td>\n",
       "      <td>True</td>\n",
       "      <td>990.0</td>\n",
       "    </tr>\n",
       "    <tr>\n",
       "      <th>2</th>\n",
       "      <td>1768</td>\n",
       "      <td>test</td>\n",
       "      <td>False</td>\n",
       "      <td>0.0</td>\n",
       "    </tr>\n",
       "    <tr>\n",
       "      <th>3</th>\n",
       "      <td>1783</td>\n",
       "      <td>test</td>\n",
       "      <td>False</td>\n",
       "      <td>0.0</td>\n",
       "    </tr>\n",
       "    <tr>\n",
       "      <th>4</th>\n",
       "      <td>1794</td>\n",
       "      <td>control</td>\n",
       "      <td>False</td>\n",
       "      <td>0.0</td>\n",
       "    </tr>\n",
       "  </tbody>\n",
       "</table>\n",
       "</div>"
      ],
      "text/plain": [
       "     id      grp  is_active    rev\n",
       "0  1489     test      False    0.0\n",
       "1  1627  control       True  990.0\n",
       "2  1768     test      False    0.0\n",
       "3  1783     test      False    0.0\n",
       "4  1794  control      False    0.0"
      ]
     },
     "execution_count": 34,
     "metadata": {},
     "output_type": "execute_result"
    }
   ],
   "source": [
    "ab_testing.head()"
   ]
  },
  {
   "cell_type": "markdown",
   "metadata": {},
   "source": [
    "**Определимся с метриками.**\n",
    "\n",
    "Новая механика оплаты сайта может влиять на ряд метрик. Во-первых, может измениться:\n",
    "- `Total revenue` - общая выручка; \n",
    "- `Convetrion Rate` - на каком-то этапе оплаты станет отваливаться меньше/больше людей. \n",
    "\n",
    "Во-вторных, производными от этих двух метрик будут:\n",
    "- `ARPPU` (отношение Total revenue к количеству покупок);\n",
    "- `ARPAU` (произведение Convetrion Rate и ARPPU). \n",
    "\n",
    "Если изменятся две первые, то изменятся и две последние."
   ]
  },
  {
   "cell_type": "markdown",
   "metadata": {},
   "source": [
    "Посчитаем выбранные метрики, при чем оставим в датафрейме только активных пользователей."
   ]
  },
  {
   "cell_type": "code",
   "execution_count": 35,
   "metadata": {},
   "outputs": [],
   "source": [
    "ab_testing = ab_testing[ab_testing.is_active == True]"
   ]
  },
  {
   "cell_type": "code",
   "execution_count": 36,
   "metadata": {},
   "outputs": [
    {
     "data": {
      "text/html": [
       "<div>\n",
       "<style scoped>\n",
       "    .dataframe tbody tr th:only-of-type {\n",
       "        vertical-align: middle;\n",
       "    }\n",
       "\n",
       "    .dataframe tbody tr th {\n",
       "        vertical-align: top;\n",
       "    }\n",
       "\n",
       "    .dataframe thead th {\n",
       "        text-align: right;\n",
       "    }\n",
       "</style>\n",
       "<table border=\"1\" class=\"dataframe\">\n",
       "  <thead>\n",
       "    <tr style=\"text-align: right;\">\n",
       "      <th></th>\n",
       "      <th>id</th>\n",
       "      <th>grp</th>\n",
       "      <th>is_active</th>\n",
       "      <th>rev</th>\n",
       "    </tr>\n",
       "  </thead>\n",
       "  <tbody>\n",
       "    <tr>\n",
       "      <th>1</th>\n",
       "      <td>1627</td>\n",
       "      <td>control</td>\n",
       "      <td>True</td>\n",
       "      <td>990.0</td>\n",
       "    </tr>\n",
       "    <tr>\n",
       "      <th>10</th>\n",
       "      <td>2085</td>\n",
       "      <td>test</td>\n",
       "      <td>True</td>\n",
       "      <td>0.0</td>\n",
       "    </tr>\n",
       "    <tr>\n",
       "      <th>12</th>\n",
       "      <td>2215</td>\n",
       "      <td>test</td>\n",
       "      <td>True</td>\n",
       "      <td>0.0</td>\n",
       "    </tr>\n",
       "    <tr>\n",
       "      <th>43</th>\n",
       "      <td>3391</td>\n",
       "      <td>control</td>\n",
       "      <td>True</td>\n",
       "      <td>0.0</td>\n",
       "    </tr>\n",
       "    <tr>\n",
       "      <th>45</th>\n",
       "      <td>3401</td>\n",
       "      <td>test</td>\n",
       "      <td>True</td>\n",
       "      <td>0.0</td>\n",
       "    </tr>\n",
       "    <tr>\n",
       "      <th>...</th>\n",
       "      <td>...</td>\n",
       "      <td>...</td>\n",
       "      <td>...</td>\n",
       "      <td>...</td>\n",
       "    </tr>\n",
       "    <tr>\n",
       "      <th>74543</th>\n",
       "      <td>5760471</td>\n",
       "      <td>test</td>\n",
       "      <td>True</td>\n",
       "      <td>0.0</td>\n",
       "    </tr>\n",
       "    <tr>\n",
       "      <th>74545</th>\n",
       "      <td>5777081</td>\n",
       "      <td>test</td>\n",
       "      <td>True</td>\n",
       "      <td>0.0</td>\n",
       "    </tr>\n",
       "    <tr>\n",
       "      <th>74558</th>\n",
       "      <td>5870856</td>\n",
       "      <td>control</td>\n",
       "      <td>True</td>\n",
       "      <td>0.0</td>\n",
       "    </tr>\n",
       "    <tr>\n",
       "      <th>74561</th>\n",
       "      <td>5945085</td>\n",
       "      <td>test</td>\n",
       "      <td>True</td>\n",
       "      <td>0.0</td>\n",
       "    </tr>\n",
       "    <tr>\n",
       "      <th>74562</th>\n",
       "      <td>5951797</td>\n",
       "      <td>test</td>\n",
       "      <td>True</td>\n",
       "      <td>0.0</td>\n",
       "    </tr>\n",
       "  </tbody>\n",
       "</table>\n",
       "<p>8341 rows × 4 columns</p>\n",
       "</div>"
      ],
      "text/plain": [
       "            id      grp  is_active    rev\n",
       "1         1627  control       True  990.0\n",
       "10        2085     test       True    0.0\n",
       "12        2215     test       True    0.0\n",
       "43        3391  control       True    0.0\n",
       "45        3401     test       True    0.0\n",
       "...        ...      ...        ...    ...\n",
       "74543  5760471     test       True    0.0\n",
       "74545  5777081     test       True    0.0\n",
       "74558  5870856  control       True    0.0\n",
       "74561  5945085     test       True    0.0\n",
       "74562  5951797     test       True    0.0\n",
       "\n",
       "[8341 rows x 4 columns]"
      ]
     },
     "execution_count": 36,
     "metadata": {},
     "output_type": "execute_result"
    }
   ],
   "source": [
    "ab_testing"
   ]
  },
  {
   "cell_type": "markdown",
   "metadata": {},
   "source": [
    "Создадим датафрейм, на который будем \"нанизывать\" искомые метрики."
   ]
  },
  {
   "cell_type": "code",
   "execution_count": 37,
   "metadata": {},
   "outputs": [],
   "source": [
    "# Считаем количество пользователей в тестовой и контрольной группах\n",
    "\n",
    "metrics = ab_testing.groupby('grp', as_index=False) \\\n",
    "                    .agg(active_users=('id', 'count'))\n"
   ]
  },
  {
   "cell_type": "code",
   "execution_count": 38,
   "metadata": {},
   "outputs": [],
   "source": [
    "# Считаем количество пользователей, совершивших покупку \n",
    "\n",
    "purchases = ab_testing.query('rev > 0').groupby('grp', as_index=False) \\\n",
    "                                 .agg(purchases=('id', 'count'))\n",
    "\n",
    "\n",
    "# Считаем общую выручку (total_rev) \n",
    "\n",
    "total_rev = ab_testing.groupby('grp', as_index=False) \\\n",
    "                      .agg(total_rev=('rev', 'sum')) \\\n",
    "                      .round(2)\n",
    "\n",
    "\n",
    "# Добавляем метрики в соответствующий датафрейм\n",
    "\n",
    "metrics = metrics.merge(purchases,  on = 'grp').merge(total_rev,  on = 'grp')"
   ]
  },
  {
   "cell_type": "code",
   "execution_count": 39,
   "metadata": {
    "scrolled": true
   },
   "outputs": [],
   "source": [
    "# Считаем CR\n",
    "metrics['CR'] = round(metrics.purchases / metrics.active_users, 3)\n",
    "\n",
    "# Считаем ARPPU (средний чек)\n",
    "metrics['ARPPU'] = round(metrics.total_rev / metrics.purchases, 2)\n",
    "\n",
    "# Считаем ARPAU\n",
    "metrics['ARPAU'] = round(metrics.CR * metrics.ARPPU, 2)"
   ]
  },
  {
   "cell_type": "code",
   "execution_count": 40,
   "metadata": {
    "scrolled": true
   },
   "outputs": [
    {
     "data": {
      "text/html": [
       "<div>\n",
       "<style scoped>\n",
       "    .dataframe tbody tr th:only-of-type {\n",
       "        vertical-align: middle;\n",
       "    }\n",
       "\n",
       "    .dataframe tbody tr th {\n",
       "        vertical-align: top;\n",
       "    }\n",
       "\n",
       "    .dataframe thead th {\n",
       "        text-align: right;\n",
       "    }\n",
       "</style>\n",
       "<table border=\"1\" class=\"dataframe\">\n",
       "  <thead>\n",
       "    <tr style=\"text-align: right;\">\n",
       "      <th></th>\n",
       "      <th>grp</th>\n",
       "      <th>active_users</th>\n",
       "      <th>purchases</th>\n",
       "      <th>total_rev</th>\n",
       "      <th>CR</th>\n",
       "      <th>ARPPU</th>\n",
       "      <th>ARPAU</th>\n",
       "    </tr>\n",
       "  </thead>\n",
       "  <tbody>\n",
       "    <tr>\n",
       "      <th>0</th>\n",
       "      <td>control</td>\n",
       "      <td>1538</td>\n",
       "      <td>78</td>\n",
       "      <td>72820.0</td>\n",
       "      <td>0.051</td>\n",
       "      <td>933.59</td>\n",
       "      <td>47.61</td>\n",
       "    </tr>\n",
       "    <tr>\n",
       "      <th>1</th>\n",
       "      <td>test</td>\n",
       "      <td>6803</td>\n",
       "      <td>314</td>\n",
       "      <td>394974.0</td>\n",
       "      <td>0.046</td>\n",
       "      <td>1257.88</td>\n",
       "      <td>57.86</td>\n",
       "    </tr>\n",
       "  </tbody>\n",
       "</table>\n",
       "</div>"
      ],
      "text/plain": [
       "       grp  active_users  purchases  total_rev     CR    ARPPU  ARPAU\n",
       "0  control          1538         78    72820.0  0.051   933.59  47.61\n",
       "1     test          6803        314   394974.0  0.046  1257.88  57.86"
      ]
     },
     "execution_count": 40,
     "metadata": {},
     "output_type": "execute_result"
    }
   ],
   "source": [
    "metrics.head()"
   ]
  },
  {
   "cell_type": "markdown",
   "metadata": {},
   "source": [
    "Так как в тестовой группе людей больше в 4,5 раза, то количество покупок и общая выручка там тоже логично выше. Конверсия в  тестовой группе стала немного ниже. ARPPU и ARPAU в тестовой группе стали выше. Статистическую значимость этих метрик нужно проверить.\n",
    "\n",
    "Для начала изучим распределения в тестовой и контрольной группах, проверим выполнение условий на нормальность."
   ]
  },
  {
   "cell_type": "code",
   "execution_count": 41,
   "metadata": {},
   "outputs": [],
   "source": [
    "control = ab_testing.query(\"grp == 'control' and rev > 0\")\n",
    "test = ab_testing.query(\"grp == 'test' and rev > 0\")"
   ]
  },
  {
   "cell_type": "markdown",
   "metadata": {},
   "source": [
    "Построим графики распределений:"
   ]
  },
  {
   "cell_type": "code",
   "execution_count": 42,
   "metadata": {
    "scrolled": false
   },
   "outputs": [
    {
     "data": {
      "image/png": "[encoded data removed]",
      "text/plain": [
       "<Figure size 1152x360 with 2 Axes>"
      ]
     },
     "metadata": {
      "needs_background": "light"
     },
     "output_type": "display_data"
    }
   ],
   "source": [
    "# Установим настройки графика\n",
    "ax = plt.subplots(1, 2, figsize=(16, 5))\n",
    "\n",
    "# Построим график распределений тестовой группы\n",
    "plt.subplot(1, 2, 1)\n",
    "plt.hist(test.rev)\n",
    "plt.title('Test. Распределение показателя \"выручка\"')\n",
    "plt.xlabel('Revenue')\n",
    "plt.ylabel('Count')\n",
    "\n",
    "# Построим график распределений контрольной группы\n",
    "plt.subplot(1, 2, 2)\n",
    "plt.hist(control.rev)\n",
    "plt.title('Control. Распределение показателя \"выручка\"')\n",
    "plt.xlabel('Revenue')\n",
    "plt.ylabel('Count')\n",
    "\n",
    "# Установим графикам одинаковые оси\n",
    "plt.xlim(0, 4000)\n",
    "plt.ylim(0, 130)\n",
    "\n",
    "plt.show()"
   ]
  },
  {
   "cell_type": "markdown",
   "metadata": {},
   "source": [
    "График с контролем скошен влево, что в целом нормально для такого признака как выручка. У графика с тестом обнаруживается достаточно ярко выраженный пик с выручкой в 2000. Почему так? На ум приходят два варианта:\n",
    "\n",
    "1. Ввели какой-то новый продукт с этой стоимостью.\n",
    "2. Запуск рекламной кампании на уже существующий продукт.\n",
    "\n",
    "Это только доказывает необходимость проверки системы сплитования. Так как в случае A/B-тестирования в экспериментальную группу должны попасть пользователи, отличающиеся от контрольной только на один фактор."
   ]
  },
  {
   "cell_type": "code",
   "execution_count": 43,
   "metadata": {},
   "outputs": [
    {
     "data": {
      "text/plain": [
       "Text(0, 0.5, 'Count')"
      ]
     },
     "execution_count": 43,
     "metadata": {},
     "output_type": "execute_result"
    },
    {
     "data": {
      "image/png": "[encoded data removed]",
      "text/plain": [
       "<Figure size 432x288 with 1 Axes>"
      ]
     },
     "metadata": {
      "needs_background": "light"
     },
     "output_type": "display_data"
    }
   ],
   "source": [
    "sns.boxplot(x = 'grp', y = 'rev', data=ab_testing.query('rev > 0'))\n",
    "plt.title('Статистические характеристики показателя \"выручка\"')\n",
    "plt.xlabel('Group')\n",
    "plt.ylabel('Count')"
   ]
  },
  {
   "cell_type": "markdown",
   "metadata": {},
   "source": [
    "На боксплотах видно несколько выбросов как в контрольной, так и в тестовой группе. В тестовой группе заметно увеличился размах признака (выручки). Заметно, что третий квартиль контрольной группе примерно равен медиане в контрольной.\n",
    "\n",
    "Проведём тест Шапиро-Уилка на определение нормальности распределения. В связи с небольшой выборкой, сэмплировать наши данные не нужно.\n",
    "- **H0:** величина распределена нормально.\n",
    "- **H1:** величина распределена ненормально."
   ]
  },
  {
   "cell_type": "code",
   "execution_count": 44,
   "metadata": {
    "scrolled": false
   },
   "outputs": [
    {
     "name": "stdout",
     "output_type": "stream",
     "text": [
      "Результаты контрольной группы: \t ShapiroResult(statistic=0.7353236079216003, pvalue=1.4986822893803264e-10)\n",
      "Результаты тестовой группы: \t ShapiroResult(statistic=0.8547235727310181, pvalue=1.5437024585965894e-16)\n"
     ]
    }
   ],
   "source": [
    "print('Результаты контрольной группы: \\t', ss.shapiro(control.rev))\n",
    "print('Результаты тестовой группы: \\t', ss.shapiro(test.rev))"
   ]
  },
  {
   "cell_type": "markdown",
   "metadata": {},
   "source": [
    "**P-value намного меньше 0.05, отклоняем нулевую гипотизу и принимаем альтернативную (выручка наспределена ненормально).**\n",
    "\n",
    "Так как распределение ненормально, определим гомогенность дисперсии с использованием теста Левена:\n",
    "\n",
    "- **H0:** дисперсии равны.\n",
    "- **H1:** дисперсии не равны."
   ]
  },
  {
   "cell_type": "code",
   "execution_count": 45,
   "metadata": {},
   "outputs": [
    {
     "data": {
      "text/plain": [
       "LeveneResult(statistic=3.075681699981606, pvalue=0.08025675761347022)"
      ]
     },
     "execution_count": 45,
     "metadata": {},
     "output_type": "execute_result"
    }
   ],
   "source": [
    "ss.levene(control.rev, test.rev)"
   ]
  },
  {
   "cell_type": "markdown",
   "metadata": {},
   "source": [
    "**P-value > 0.05, нулевую гипотезу о равенстве дисперсий принимаем.**\n",
    "\n",
    "Что мы имеем:\n",
    "1. Разница в количестве контрольных и тестовых наблюдений более чем в 4 раза;\n",
    "2. Несколько выбросов в обоих группах, все выбросы в бОльшую сторону;\n",
    "3. Ненормальное распределение;\n",
    "4. Однородные дисперсии.\n",
    "\n",
    "Разница в наблюдениях двух групп негативно сказывается на использовании непараметрического U-теста. Наличие выбросов и ненормальное распределение хоть и не является строгим ограничеием для использование t-теста, все равно может дать погрешность. В данном случае бутстрэп поможет нам нивелировать все нюансы, поэтому будем использовать его.\n",
    "\n",
    "- **H0:** средний чек в контрольной и тестовой группе не отличаются.\n",
    "- **H1:** средний чек в контрольной и тестовой группе отличаются."
   ]
  },
  {
   "cell_type": "code",
   "execution_count": 46,
   "metadata": {},
   "outputs": [
    {
     "data": {
      "application/vnd.jupyter.widget-view+json": {
       "model_id": "a1bbbb313c7347e2865cd7795d3fc0a9",
       "version_major": 2,
       "version_minor": 0
      },
      "text/plain": [
       "HBox(children=(FloatProgress(value=0.0, max=2000.0), HTML(value='')))"
      ]
     },
     "metadata": {},
     "output_type": "display_data"
    },
    {
     "name": "stdout",
     "output_type": "stream",
     "text": [
      "\n"
     ]
    },
    {
     "data": {
      "image/png": "[encoded data removed]",
      "text/plain": [
       "<Figure size 720x432 with 1 Axes>"
      ]
     },
     "metadata": {},
     "output_type": "display_data"
    },
    {
     "name": "stdout",
     "output_type": "stream",
     "text": [
      "P-value: \t 2.135701172312924e-06\n"
     ]
    }
   ],
   "source": [
    "booted_data = get_bootstrap(test.rev, \n",
    "                            control.rev,\n",
    "                            boot_it = 2000)\n",
    "\n",
    "print('P-value: \\t', booted_data['p_value'])"
   ]
  },
  {
   "cell_type": "code",
   "execution_count": 47,
   "metadata": {
    "scrolled": true
   },
   "outputs": [
    {
     "data": {
      "text/html": [
       "<div>\n",
       "<style scoped>\n",
       "    .dataframe tbody tr th:only-of-type {\n",
       "        vertical-align: middle;\n",
       "    }\n",
       "\n",
       "    .dataframe tbody tr th {\n",
       "        vertical-align: top;\n",
       "    }\n",
       "\n",
       "    .dataframe thead th {\n",
       "        text-align: right;\n",
       "    }\n",
       "</style>\n",
       "<table border=\"1\" class=\"dataframe\">\n",
       "  <thead>\n",
       "    <tr style=\"text-align: right;\">\n",
       "      <th></th>\n",
       "      <th>0</th>\n",
       "    </tr>\n",
       "  </thead>\n",
       "  <tbody>\n",
       "    <tr>\n",
       "      <th>0.025</th>\n",
       "      <td>188.486237</td>\n",
       "    </tr>\n",
       "    <tr>\n",
       "      <th>0.975</th>\n",
       "      <td>453.027801</td>\n",
       "    </tr>\n",
       "  </tbody>\n",
       "</table>\n",
       "</div>"
      ],
      "text/plain": [
       "                0\n",
       "0.025  188.486237\n",
       "0.975  453.027801"
      ]
     },
     "execution_count": 47,
     "metadata": {},
     "output_type": "execute_result"
    }
   ],
   "source": [
    "booted_data['ci']"
   ]
  },
  {
   "cell_type": "markdown",
   "metadata": {},
   "source": [
    "**P-value намного меньше 0.05, поэтому отклоняем нулевую гипотезу и принимаем альтернативную.** Новая механика статистически достоверно увеличила средний чек.\n",
    "\n",
    "Также мы можем проверить статзначимость изменения конверсии. Так как оба признака категориальные, будем использовать хи-квадрат Пирсона.\n",
    "- Н0: новая механика оплаты не влияет на конверсию.\n",
    "- H1: новая механика оплаты влияет на конверсию."
   ]
  },
  {
   "cell_type": "code",
   "execution_count": 48,
   "metadata": {},
   "outputs": [
    {
     "data": {
      "text/html": [
       "<div>\n",
       "<style scoped>\n",
       "    .dataframe tbody tr th:only-of-type {\n",
       "        vertical-align: middle;\n",
       "    }\n",
       "\n",
       "    .dataframe tbody tr th {\n",
       "        vertical-align: top;\n",
       "    }\n",
       "\n",
       "    .dataframe thead th {\n",
       "        text-align: right;\n",
       "    }\n",
       "</style>\n",
       "<table border=\"1\" class=\"dataframe\">\n",
       "  <thead>\n",
       "    <tr style=\"text-align: right;\">\n",
       "      <th>is_purchase</th>\n",
       "      <th>0</th>\n",
       "      <th>1</th>\n",
       "    </tr>\n",
       "    <tr>\n",
       "      <th>grp</th>\n",
       "      <th></th>\n",
       "      <th></th>\n",
       "    </tr>\n",
       "  </thead>\n",
       "  <tbody>\n",
       "    <tr>\n",
       "      <th>control</th>\n",
       "      <td>1460</td>\n",
       "      <td>78</td>\n",
       "    </tr>\n",
       "    <tr>\n",
       "      <th>test</th>\n",
       "      <td>6489</td>\n",
       "      <td>314</td>\n",
       "    </tr>\n",
       "  </tbody>\n",
       "</table>\n",
       "</div>"
      ],
      "text/plain": [
       "is_purchase     0    1\n",
       "grp                   \n",
       "control      1460   78\n",
       "test         6489  314"
      ]
     },
     "execution_count": 48,
     "metadata": {},
     "output_type": "execute_result"
    }
   ],
   "source": [
    "# Создаём колонку \"is_purchase\", где клиент: 1 - купил, 0 - не купил\n",
    "ab_testing['is_purchase'] = ab_testing.rev.apply(lambda x:1 if x>0 else 0)\n",
    "\n",
    "# Создаём таблицу сопряжённости\n",
    "chi_square = pd.crosstab(ab_testing.grp, ab_testing.is_purchase)\n",
    "chi_square"
   ]
  },
  {
   "cell_type": "code",
   "execution_count": 49,
   "metadata": {},
   "outputs": [
    {
     "name": "stdout",
     "output_type": "stream",
     "text": [
      "test Statistics: 0.48480826522557896\n",
      "degrees of freedom: 1\n",
      "p-value: 0.48625240457231045\n",
      "\n",
      "[[1465.71897854   72.28102146]\n",
      " [6483.28102146  319.71897854]]\n"
     ]
    }
   ],
   "source": [
    "chi_square, prob, df, expected = ss.chi2_contingency(chi_square)\n",
    "\n",
    "output = 'test Statistics: {}\\ndegrees of freedom: {}\\np-value: {}\\n'\n",
    "\n",
    "print(output.format(chi_square, df, prob))\n",
    "\n",
    "print(expected)"
   ]
  },
  {
   "cell_type": "markdown",
   "metadata": {},
   "source": [
    "**P-value > 0.05, поэтому принимаем нулевую гипотезу.** Новая механика оплаты не оказывает влияния на конверсию в покупку."
   ]
  },
  {
   "cell_type": "markdown",
   "metadata": {},
   "source": [
    "### Задание 1. Выводы\n",
    "\n",
    "#### Техническая часть.\n",
    "За неимением достаточной информации о новой фиче, а также о планировании и ходе эксперимента, во время выполнения задачи приходилось делать ряд допущений. Всё же следует найти ответы на следующие вопросы:\n",
    "- Почему в тестовой группе участников больше, чем в контрольной?\n",
    "- Почему в группу попали пользователи, которые были неактивны, но совершили покупку?\n",
    "- Почему в распределени выручки в тестовой группе появился пик на 2000?\n",
    "\n",
    "Ответы на эти вопросы кроются в двух местах:\n",
    "- Подробности о фиче;\n",
    "- Проверка системы сплитования. Возможно, она сломана, но за неимением дополнительной информации я это доказать не могу.\n",
    "\n",
    "#### Продуктовая часть.\n",
    "Хоть и был сделан ряд допущений, мы все равно можем сделать выводы об эффективности новой фичи:\n",
    "- Она не оказывает влияния на конверсию в покупку;\n",
    "- Средний чек статистически достоверно увеличился на 34.6% для активных платящих пользователей.\n",
    "\n",
    "**Раскатываем новую механику оплаты на всех пользователей.**\n"
   ]
  },
  {
   "cell_type": "markdown",
   "metadata": {},
   "source": [
    "### Задание 2. SQL\n",
    "\n",
    "**Условие.** Образовательные курсы состоят из различных уроков, каждый из которых состоит из нескольких маленьких заданий. Каждое такое маленькое задание называется \"горошиной\".\n",
    "\n",
    "Назовём очень усердным учеником того пользователя, который хотя бы раз за текущий месяц правильно решил 20 горошин.\n",
    "\n",
    "##### Задача 1\n",
    "\n",
    "Необходимо написать оптимальный запрос, который даст информацию о количестве очень усердных студентов за март 2020 года.\n",
    "\n",
    "*NB! Под усердным студентом мы понимаем студента, который правильно решил 20 задач за текущий месяц.*"
   ]
  },
  {
   "cell_type": "code",
   "execution_count": 50,
   "metadata": {},
   "outputs": [],
   "source": [
    "# Подключаемся к default\n",
    "connection_default = {'host': 'http://clickhouse.beslan.pro:8080',\n",
    "                      'database':'default',\n",
    "                      'user':'student', \n",
    "                      'password':'dpo_python_2020'\n",
    "                     }"
   ]
  },
  {
   "cell_type": "code",
   "execution_count": 51,
   "metadata": {},
   "outputs": [
    {
     "data": {
      "text/html": [
       "<div>\n",
       "<style scoped>\n",
       "    .dataframe tbody tr th:only-of-type {\n",
       "        vertical-align: middle;\n",
       "    }\n",
       "\n",
       "    .dataframe tbody tr th {\n",
       "        vertical-align: top;\n",
       "    }\n",
       "\n",
       "    .dataframe thead th {\n",
       "        text-align: right;\n",
       "    }\n",
       "</style>\n",
       "<table border=\"1\" class=\"dataframe\">\n",
       "  <thead>\n",
       "    <tr style=\"text-align: right;\">\n",
       "      <th></th>\n",
       "      <th>tough_students</th>\n",
       "    </tr>\n",
       "  </thead>\n",
       "  <tbody>\n",
       "    <tr>\n",
       "      <th>0</th>\n",
       "      <td>0</td>\n",
       "    </tr>\n",
       "  </tbody>\n",
       "</table>\n",
       "</div>"
      ],
      "text/plain": [
       "   tough_students\n",
       "0               0"
      ]
     },
     "execution_count": 51,
     "metadata": {},
     "output_type": "execute_result"
    }
   ],
   "source": [
    "query1 = '''\n",
    "SELECT\n",
    "    COUNT(DISTINCT st_id) AS tough_students\n",
    " FROM (\n",
    "    SELECT \n",
    "        st_id\n",
    "     FROM default.peas\n",
    "     WHERE\n",
    "        toStartOfMonth(timest) = '2020-03-01'\n",
    "     AND\n",
    "        correct = 1 \n",
    "     GROUP BY\n",
    "        st_id\n",
    "     HAVING \n",
    "     COUNT(correct)>=20\n",
    "    )\n",
    "'''\n",
    "\n",
    "query1 = ph.read_clickhouse(query=query1, connection=connection_default)\n",
    "query1"
   ]
  },
  {
   "cell_type": "markdown",
   "metadata": {},
   "source": [
    "Вопрос на самом деле был с подвохом, так как в таблице находятся данные только за два дня:"
   ]
  },
  {
   "cell_type": "code",
   "execution_count": 52,
   "metadata": {
    "scrolled": true
   },
   "outputs": [
    {
     "data": {
      "text/html": [
       "<div>\n",
       "<style scoped>\n",
       "    .dataframe tbody tr th:only-of-type {\n",
       "        vertical-align: middle;\n",
       "    }\n",
       "\n",
       "    .dataframe tbody tr th {\n",
       "        vertical-align: top;\n",
       "    }\n",
       "\n",
       "    .dataframe thead th {\n",
       "        text-align: right;\n",
       "    }\n",
       "</style>\n",
       "<table border=\"1\" class=\"dataframe\">\n",
       "  <thead>\n",
       "    <tr style=\"text-align: right;\">\n",
       "      <th></th>\n",
       "      <th>Days</th>\n",
       "    </tr>\n",
       "  </thead>\n",
       "  <tbody>\n",
       "    <tr>\n",
       "      <th>0</th>\n",
       "      <td>2021-10-30</td>\n",
       "    </tr>\n",
       "    <tr>\n",
       "      <th>1</th>\n",
       "      <td>2021-10-31</td>\n",
       "    </tr>\n",
       "  </tbody>\n",
       "</table>\n",
       "</div>"
      ],
      "text/plain": [
       "        Days\n",
       "0 2021-10-30\n",
       "1 2021-10-31"
      ]
     },
     "execution_count": 52,
     "metadata": {},
     "output_type": "execute_result"
    }
   ],
   "source": [
    "query2 = '''\n",
    "SELECT\n",
    "    DISTINCT(toStartOfDay(timest)) AS Days\n",
    " FROM peas\n",
    "'''\n",
    "\n",
    "query2 = ph.read_clickhouse(query=query2, connection=connection_default)\n",
    "query2"
   ]
  },
  {
   "cell_type": "markdown",
   "metadata": {},
   "source": [
    "Так что посчитаем количество усердных учеников за эти два дня:"
   ]
  },
  {
   "cell_type": "code",
   "execution_count": 53,
   "metadata": {},
   "outputs": [
    {
     "data": {
      "text/html": [
       "<div>\n",
       "<style scoped>\n",
       "    .dataframe tbody tr th:only-of-type {\n",
       "        vertical-align: middle;\n",
       "    }\n",
       "\n",
       "    .dataframe tbody tr th {\n",
       "        vertical-align: top;\n",
       "    }\n",
       "\n",
       "    .dataframe thead th {\n",
       "        text-align: right;\n",
       "    }\n",
       "</style>\n",
       "<table border=\"1\" class=\"dataframe\">\n",
       "  <thead>\n",
       "    <tr style=\"text-align: right;\">\n",
       "      <th></th>\n",
       "      <th>tough_students</th>\n",
       "    </tr>\n",
       "  </thead>\n",
       "  <tbody>\n",
       "    <tr>\n",
       "      <th>0</th>\n",
       "      <td>136</td>\n",
       "    </tr>\n",
       "  </tbody>\n",
       "</table>\n",
       "</div>"
      ],
      "text/plain": [
       "   tough_students\n",
       "0             136"
      ]
     },
     "execution_count": 53,
     "metadata": {},
     "output_type": "execute_result"
    }
   ],
   "source": [
    "query3 = '''\n",
    "SELECT\n",
    "    COUNT(DISTINCT st_id) AS tough_students\n",
    " FROM (\n",
    "    SELECT \n",
    "        st_id\n",
    "     FROM \n",
    "         peas\n",
    "     WHERE\n",
    "        correct = 1 \n",
    "     GROUP BY\n",
    "        st_id\n",
    "     HAVING \n",
    "         COUNT(correct)>=20\n",
    "    )\n",
    "'''\n",
    "query3 = ph.read_clickhouse(query=query3, connection=connection_default)\n",
    "query3"
   ]
  },
  {
   "cell_type": "markdown",
   "metadata": {},
   "source": [
    "**Ответ: 136 учеников были усердны в октябре 2021.**"
   ]
  },
  {
   "cell_type": "markdown",
   "metadata": {},
   "source": [
    "**Условие.** Образовательная платформа предлагает пройти студентам курсы по модели trial: студент может решить бесплатно лишь 30 горошин в день. Для неограниченного количества заданий в определенной дисциплине студенту необходимо приобрести полный доступ. Команда провела эксперимент, где был протестирован новый экран оплаты.\n",
    "\n",
    "##### Задача 2\n",
    "\n",
    "Необходимо в одном запросе выгрузить следующую информацию о группах пользователей:\n",
    "\n",
    "- ARPU \n",
    "- ARPAU \n",
    "- CR в покупку \n",
    "- СR активного пользователя в покупку \n",
    "- CR пользователя из активности по математике (subject = ’math’) в покупку курса по математике\n",
    "\n",
    "*ARPU считается относительно всех пользователей, попавших в группы.*\n",
    "\n",
    "*Активным считается пользователь, за все время решивший больше 10 задач правильно в любых дисциплинах.*\n",
    "\n",
    "*Активным по математике считается пользователь, за все время решивший 2 или больше задач правильно по математике.*"
   ]
  },
  {
   "cell_type": "code",
   "execution_count": 54,
   "metadata": {},
   "outputs": [
    {
     "data": {
      "text/html": [
       "<div>\n",
       "<style scoped>\n",
       "    .dataframe tbody tr th:only-of-type {\n",
       "        vertical-align: middle;\n",
       "    }\n",
       "\n",
       "    .dataframe tbody tr th {\n",
       "        vertical-align: top;\n",
       "    }\n",
       "\n",
       "    .dataframe thead th {\n",
       "        text-align: right;\n",
       "    }\n",
       "</style>\n",
       "<table border=\"1\" class=\"dataframe\">\n",
       "  <thead>\n",
       "    <tr style=\"text-align: right;\">\n",
       "      <th></th>\n",
       "      <th>test_grp</th>\n",
       "      <th>ARPU</th>\n",
       "      <th>ARPAU</th>\n",
       "      <th>CR</th>\n",
       "      <th>active_CR</th>\n",
       "      <th>math_CR</th>\n",
       "    </tr>\n",
       "  </thead>\n",
       "  <tbody>\n",
       "    <tr>\n",
       "      <th>0</th>\n",
       "      <td>control</td>\n",
       "      <td>4540.98</td>\n",
       "      <td>86562.50</td>\n",
       "      <td>0.05</td>\n",
       "      <td>0.12</td>\n",
       "      <td>0.12</td>\n",
       "    </tr>\n",
       "    <tr>\n",
       "      <th>1</th>\n",
       "      <td>pilot</td>\n",
       "      <td>11508.47</td>\n",
       "      <td>102878.79</td>\n",
       "      <td>0.11</td>\n",
       "      <td>0.27</td>\n",
       "      <td>0.17</td>\n",
       "    </tr>\n",
       "  </tbody>\n",
       "</table>\n",
       "</div>"
      ],
      "text/plain": [
       "  test_grp      ARPU      ARPAU    CR  active_CR  math_CR\n",
       "0  control   4540.98   86562.50  0.05       0.12     0.12\n",
       "1    pilot  11508.47  102878.79  0.11       0.27     0.17"
      ]
     },
     "execution_count": 54,
     "metadata": {},
     "output_type": "execute_result"
    }
   ],
   "source": [
    "query4 = '''\n",
    "SELECT\n",
    "    test_grp,\n",
    "    ROUND(SUM(checks.money) / uniqExact(studs.st_id), 2) AS ARPU,\n",
    "    ROUND(SUM(checks.money) / uniqExact(checks.st_id), 2) AS ARPAU,\n",
    "    ROUND(uniqExact(checks.st_id) / uniqExact(studs.st_id), 2) AS CR,\n",
    "    ROUND(uniqIf(checks.st_id, all_activity > 10) / uniqIf(studs.st_id, all_activity > 10), 2) AS active_CR,\n",
    "    ROUND(uniqIf(checks.st_id, math_activity >= 2) / uniqIf(studs.st_id, math_activity >= 2), 2) AS math_CR\n",
    " FROM\n",
    "    studs\n",
    " LEFT JOIN (\n",
    "    SELECT\n",
    "        st_id,\n",
    "        SUMIf(correct, subject = 'Math') as math_activity,\n",
    "        SUM(correct) as all_activity\n",
    "     FROM\n",
    "        peas\n",
    "     GROUP BY\n",
    "        st_id\n",
    "                ) AS activity\n",
    "        ON \n",
    "         studs.st_id = activity.st_id\n",
    "  LEFT JOIN \n",
    "     final_project_check as checks\n",
    " ON \n",
    "     studs.st_id = checks.st_id\n",
    "GROUP BY test_grp\n",
    "'''\n",
    "query4 = ph.read_clickhouse(query=query4, connection=connection_default)\n",
    "query4"
   ]
  },
  {
   "cell_type": "markdown",
   "metadata": {},
   "source": [
    "### Задание 3. Функция в Python\n",
    "1. Реализуйте функцию, которая будет автоматически подгружать информацию из дополнительного файла groups_add.csv (заголовки могут отличаться) и на основании дополнительных параметров пересчитывать метрики.\n",
    "\n",
    "Пара комментариев к функции. Так как исследовательский анализ данных уже проведён, ряд манипуляций (например, добавление дополнительной колонки `is_active`) я опускаю за ненадобностью и для экономии времени обработки кода. В связи с этим, некоторые функции реализованы немного иначе, чем в задании 1. Типы данных в таблице указаны напрямую для исключения ошибок в их автоматическом определении."
   ]
  },
  {
   "cell_type": "code",
   "execution_count": 55,
   "metadata": {},
   "outputs": [],
   "source": [
    "def get_metrics(file):\n",
    "    \n",
    "    '''\n",
    "    Функция подгружает новые данные к уже имеющимся и пересчитывает метрики. \n",
    "    В аргументы необходимо вставить путь в формате 'файл.сsv' в кавычках.\n",
    "    Названия заголовков могут отличаться. В файле необходимо расположение столбцов в том же порядке.\n",
    "    Типы данных указаны в функции напрямую для исключении ошибок считывания. \n",
    "    \n",
    "    '''\n",
    "    # Однозначно прописываем типы данных и названия колонок\n",
    "    types = {'id': str, 'grp': str}\n",
    "    new_names = ['id', 'grp']\n",
    "\n",
    "    # Считываем новые и старые данные, задавая типы данных и названия колонок\n",
    "    groups       = pd.read_csv('Проект_2_groups.csv', \n",
    "                               sep=';', \n",
    "                               names=new_names, \n",
    "                               header=0, \n",
    "                               dtype=types)\n",
    "    groups_add   = pd.read_csv(file, \n",
    "                               names=new_names, \n",
    "                               header=0, \n",
    "                               dtype=types)\n",
    "\n",
    "    # Считываем данные об активных студентах и о выручке\n",
    "    active_studs = pd.read_csv('Проект_2_active_studs.csv', \n",
    "                               sep=',', \n",
    "                               names=['id'], \n",
    "                               header=0,\n",
    "                               dtype={'id': str})\n",
    "    checks       = pd.read_csv('Проект_2_checks.csv', \n",
    "                               sep=';', \n",
    "                               names=['id', 'rev'], \n",
    "                               header=0,\n",
    "                               dtype={'id':str,\n",
    "                                      'rev':float})\n",
    "    # Соединяем таблицы\n",
    "    full_data = groups.append(groups_add) \\\n",
    "                      .merge(active_studs, how='right', on='id') \\\n",
    "                      .merge(checks, how='left', on='id')\n",
    "\n",
    "    # Заполняем появившиеся пропуски в выручке\n",
    "    full_data['rev'] = full_data['rev'].fillna(0)\n",
    "    \n",
    "    # Однозначно переименуем группы для удобства\n",
    "    full_data.loc[(full_data.grp == 'A'), 'grp'] = 'control'\n",
    "    full_data.loc[(full_data.grp == 'B'), 'grp'] = 'test'\n",
    "    \n",
    "    \n",
    "    # Считаем количество пользователей в тестовой и контрольной группах\n",
    "    metrics = full_data.groupby('grp', as_index=False) \\\n",
    "                        .agg(active_users=('id', 'count'))\n",
    "    \n",
    "    # Считаем количество пользователей, совершивших покупку \n",
    "    purchases = full_data.query('rev > 0') \\\n",
    "                         .groupby('grp', as_index=False) \\\n",
    "                         .agg(purchases=('id', 'count'))\n",
    "    \n",
    "    # Считаем общую выручку (total_rev) \n",
    "    total_rev = full_data.groupby('grp', as_index=False) \\\n",
    "                         .agg(total_rev=('rev', 'sum')) \\\n",
    "                         .round(2)\n",
    "\n",
    "    # Добавляем метрики в соответствующий датафрейм\n",
    "    metrics = metrics.merge(purchases,  on = 'grp').merge(total_rev,  on = 'grp')\n",
    "\n",
    "    # Считаем CR\n",
    "    metrics['CR'] = round(metrics.purchases / metrics.active_users, 3)\n",
    "\n",
    "    # Считаем ARPPU (средний чек)\n",
    "    metrics['ARPPU'] = round(metrics.total_rev / metrics.purchases, 2)\n",
    "\n",
    "    # Считаем ARPAU\n",
    "    metrics['ARPAU'] = round(metrics.CR * metrics.ARPPU, 2)\n",
    "    \n",
    "    return metrics"
   ]
  },
  {
   "cell_type": "code",
   "execution_count": 56,
   "metadata": {},
   "outputs": [
    {
     "data": {
      "text/html": [
       "<div>\n",
       "<style scoped>\n",
       "    .dataframe tbody tr th:only-of-type {\n",
       "        vertical-align: middle;\n",
       "    }\n",
       "\n",
       "    .dataframe tbody tr th {\n",
       "        vertical-align: top;\n",
       "    }\n",
       "\n",
       "    .dataframe thead th {\n",
       "        text-align: right;\n",
       "    }\n",
       "</style>\n",
       "<table border=\"1\" class=\"dataframe\">\n",
       "  <thead>\n",
       "    <tr style=\"text-align: right;\">\n",
       "      <th></th>\n",
       "      <th>grp</th>\n",
       "      <th>active_users</th>\n",
       "      <th>purchases</th>\n",
       "      <th>total_rev</th>\n",
       "      <th>CR</th>\n",
       "      <th>ARPPU</th>\n",
       "      <th>ARPAU</th>\n",
       "    </tr>\n",
       "  </thead>\n",
       "  <tbody>\n",
       "    <tr>\n",
       "      <th>0</th>\n",
       "      <td>control</td>\n",
       "      <td>1538</td>\n",
       "      <td>78</td>\n",
       "      <td>72820.0</td>\n",
       "      <td>0.051</td>\n",
       "      <td>933.59</td>\n",
       "      <td>47.61</td>\n",
       "    </tr>\n",
       "    <tr>\n",
       "      <th>1</th>\n",
       "      <td>test</td>\n",
       "      <td>6803</td>\n",
       "      <td>314</td>\n",
       "      <td>394974.0</td>\n",
       "      <td>0.046</td>\n",
       "      <td>1257.88</td>\n",
       "      <td>57.86</td>\n",
       "    </tr>\n",
       "  </tbody>\n",
       "</table>\n",
       "</div>"
      ],
      "text/plain": [
       "       grp  active_users  purchases  total_rev     CR    ARPPU  ARPAU\n",
       "0  control          1538         78    72820.0  0.051   933.59  47.61\n",
       "1     test          6803        314   394974.0  0.046  1257.88  57.86"
      ]
     },
     "execution_count": 56,
     "metadata": {},
     "output_type": "execute_result"
    }
   ],
   "source": [
    "metrics = get_metrics('Проект_2_group_add.csv')\n",
    "metrics"
   ]
  },
  {
   "cell_type": "markdown",
   "metadata": {},
   "source": [
    "2. Реализуйте функцию, которая будет строить графики по получаемым метрикам."
   ]
  },
  {
   "cell_type": "code",
   "execution_count": 57,
   "metadata": {},
   "outputs": [],
   "source": [
    "def get_pics(df):\n",
    "    sns.set_style('whitegrid')\n",
    "    ax = plt.subplots(4, 1, figsize=(10, 6))\n",
    "    \n",
    "    plt.subplot (4, 1, 1)\n",
    "    plt.barh(metrics.grp, metrics.total_rev)\n",
    "    plt.title('Total Revenue')\n",
    "    plt.ylabel('Group')\n",
    "    plt.xlabel('Rub')\n",
    "\n",
    "    plt.subplot (4, 1, 2)\n",
    "    plt.barh(metrics.grp, metrics.CR)\n",
    "    plt.title('Convertion Rate')\n",
    "    plt.ylabel('Group')\n",
    "    plt.xlabel('Dole')\n",
    "    \n",
    "    plt.subplot (4, 1, 3)\n",
    "    plt.barh(metrics.grp, metrics.ARPPU)\n",
    "    plt.title('ARPPU')\n",
    "    plt.ylabel('Group')\n",
    "    plt.xlabel('Rub')\n",
    "    \n",
    "    plt.subplot (4, 1, 4)\n",
    "    plt.barh(metrics.grp, metrics.ARPAU)\n",
    "    plt.title('ARPAU')\n",
    "    plt.ylabel('Group')\n",
    "    plt.xlabel('Rub')\n",
    "\n",
    "    plt.subplots_adjust(wspace=3, hspace=2)\n",
    "\n",
    "    plt.show()"
   ]
  },
  {
   "cell_type": "code",
   "execution_count": 58,
   "metadata": {},
   "outputs": [
    {
     "data": {
      "image/png": "[encoded data removed]",
      "text/plain": [
       "<Figure size 720x432 with 4 Axes>"
      ]
     },
     "metadata": {},
     "output_type": "display_data"
    }
   ],
   "source": [
    "get_pics(metrics)"
   ]
  }
 ],
 "metadata": {
  "kernelspec": {
   "display_name": "Python 3",
   "language": "python",
   "name": "python3"
  },
  "language_info": {
   "codemirror_mode": {
    "name": "ipython",
    "version": 3
   },
   "file_extension": ".py",
   "mimetype": "text/x-python",
   "name": "python",
   "nbconvert_exporter": "python",
   "pygments_lexer": "ipython3",
   "version": "3.7.3"
  }
 },
 "nbformat": 4,
 "nbformat_minor": 4
}
